{
 "cells": [
  {
   "cell_type": "code",
   "execution_count": 1,
   "id": "b36f64f4-a57b-40da-ae23-8a7303c89e45",
   "metadata": {},
   "outputs": [
    {
     "name": "stdout",
     "output_type": "stream",
     "text": [
      "✅ Libraries loaded successfully!\n"
     ]
    }
   ],
   "source": [
    "# Imports\n",
    "import numpy as np\n",
    "import pandas as pd\n",
    "from sklearn.linear_model import LogisticRegression\n",
    "from sklearn.model_selection import train_test_split\n",
    "from sklearn.metrics import accuracy_score\n",
    "\n",
    "print(\"✅ Libraries loaded successfully!\")\n"
   ]
  },
  {
   "cell_type": "code",
   "execution_count": 4,
   "id": "92d2614f-a66b-4271-90fa-e2bc88ec2f5c",
   "metadata": {},
   "outputs": [
    {
     "name": "stdout",
     "output_type": "stream",
     "text": [
      "[1]\n"
     ]
    }
   ],
   "source": [
    "import pandas as pd\n",
    "from sklearn.linear_model import LogisticRegression\n",
    "\n",
    "# Training\n",
    "X_train = pd.DataFrame({\n",
    "    \"wave_height\": [1, 2, 3, 4, 5],\n",
    "    \"wind_speed\": [10, 20, 30, 40, 50]\n",
    "})\n",
    "y_train = [0, 0, 1, 1, 1]\n",
    "\n",
    "model = LogisticRegression()\n",
    "model.fit(X_train, y_train)\n",
    "\n",
    "# Prediction (with same column names)\n",
    "X_new = pd.DataFrame({\n",
    "    \"wave_height\": [6],\n",
    "    \"wind_speed\": [60]\n",
    "})\n",
    "print(model.predict(X_new))\n"
   ]
  },
  {
   "cell_type": "code",
   "execution_count": 5,
   "id": "8e41e9bc-759a-4bb0-af8a-9ed74a5de495",
   "metadata": {},
   "outputs": [
    {
     "data": {
      "text/plain": [
       "['alert_model.pkl']"
      ]
     },
     "execution_count": 5,
     "metadata": {},
     "output_type": "execute_result"
    }
   ],
   "source": [
    "import pandas as pd\n",
    "from sklearn.linear_model import LogisticRegression\n",
    "from sklearn.model_selection import train_test_split\n",
    "import joblib\n",
    "\n",
    "# Example dataset\n",
    "data = pd.DataFrame({\n",
    "    \"wave_height\": [1, 2, 3, 6, 7, 8],\n",
    "    \"wind_speed\": [10, 20, 25, 55, 65, 70],\n",
    "    \"alert\": [0, 0, 0, 1, 1, 1]\n",
    "})\n",
    "\n",
    "X = data[[\"wave_height\", \"wind_speed\"]]\n",
    "y = data[\"alert\"]\n",
    "\n",
    "X_train, X_test, y_train, y_test = train_test_split(X, y, test_size=0.2, random_state=42)\n",
    "\n",
    "model = LogisticRegression()\n",
    "model.fit(X_train, y_train)\n",
    "\n",
    "# Save model\n",
    "joblib.dump(model, \"alert_model.pkl\")\n"
   ]
  },
  {
   "cell_type": "code",
   "execution_count": null,
   "id": "27615572",
   "metadata": {},
   "outputs": [],
   "source": [
    "import requests\n",
    "import pandas as pd\n",
    "\n",
    "api_key = \"28f50b598197a700d0fdee8fd331f99c\"  # from your .env\n",
    "cities = [\"London\", \"Paris\", \"New York\", \"Tokyo\", \"Delhi\"]\n",
    "\n",
    "weather_data = {\n",
    "    \"city\": [],\n",
    "    \"temperature\": [],\n",
    "    \"humidity\": [],\n",
    "    \"weather\": [],\n",
    "    \"wind_speed\": []\n",
    "}\n",
    "\n",
    "for city in cities:\n",
    "    url = f\"https://api.openweathermap.org/data/2.5/weather?q={city}&appid={api_key}\"\n",
    "    response = requests.get(url)\n",
    "    data_json = response.json()\n",
    "    # Handle possible errors in response\n",
    "    if response.status_code == 200:\n",
    "        weather_data[\"city\"].append(city)\n",
    "        weather_data[\"temperature\"].append(data_json[\"main\"][\"temp\"])\n",
    "        weather_data[\"humidity\"].append(data_json[\"main\"][\"humidity\"])\n",
    "        weather_data[\"weather\"].append(data_json[\"weather\"][0][\"description\"])\n",
    "        weather_data[\"wind_speed\"].append(data_json[\"wind\"][\"speed\"])\n",
    "    else:\n",
    "        print(f\"Failed to get data for {city}: {data_json.get('message', 'Unknown error')}\")\n",
    "\n",
    "df = pd.DataFrame(weather_data)\n",
    "print(df)"
   ]
  },
  {
   "cell_type": "code",
   "execution_count": null,
   "id": "516c1880",
   "metadata": {},
   "outputs": [],
   "source": []
  },
  {
   "cell_type": "code",
   "execution_count": null,
   "id": "0c928eb3",
   "metadata": {},
   "outputs": [],
   "source": []
  }
 ],
 "metadata": {
  "kernelspec": {
   "display_name": "Python 3 (ipykernel)",
   "language": "python",
   "name": "python3"
  },
  "language_info": {
   "codemirror_mode": {
    "name": "ipython",
    "version": 3
   },
   "file_extension": ".py",
   "mimetype": "text/x-python",
   "name": "python",
   "nbconvert_exporter": "python",
   "pygments_lexer": "ipython3",
   "version": "3.13.5"
  }
 },
 "nbformat": 4,
 "nbformat_minor": 5
}
